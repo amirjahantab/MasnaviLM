{
 "cells": [
  {
   "cell_type": "markdown",
   "metadata": {},
   "source": [
    "<div class=\"alert\">\n",
    "    <h1 align=\"center\">Language Models</h1>\n",
    "    <h5 align=\"center\"><a href=\"https://github.com/amirjahantab/\">Amirreza Jahantab</a></h5>\n",
    "</div>"
   ]
  },
  {
   "cell_type": "markdown",
   "metadata": {
    "heading_collapsed": true
   },
   "source": [
    "## Libraries"
   ]
  },
  {
   "cell_type": "code",
   "execution_count": 9,
   "metadata": {
    "hidden": true
   },
   "outputs": [],
   "source": [
    "%matplotlib inline\n",
    "%reload_ext autoreload\n",
    "%autoreload 2\n",
    "\n",
    "import os\n",
    "import sys\n",
    "import random\n",
    "import pickle\n",
    "\n",
    "import numpy as np\n",
    "import matplotlib.pyplot as plt\n",
    "from collections import Counter\n",
    "from tqdm import tqdm_notebook\n",
    "\n",
    "import torch\n",
    "import torch.nn as nn\n",
    "import torch.optim as optim\n",
    "from torch.autograd import Variable\n",
    "\n",
    "from utils import *\n",
    "from data_utils import Vocabulary\n",
    "from train_utils import train\n",
    "\n",
    "from IPython.core.debugger import Pdb  ## DEBUG ##\n",
    "\n",
    "# setup\n",
    "plt.style.use('ggplot')\n",
    "plt.rcParams['figure.figsize'] = (12., 6.)\n",
    "pdb = Pdb()\n",
    "use_gpu = torch.cuda.is_available()"
   ]
  },
  {
   "cell_type": "markdown",
   "metadata": {
    "hidden": true
   },
   "source": [
    "Helper functions"
   ]
  },
  {
   "cell_type": "code",
   "execution_count": 11,
   "metadata": {
    "hidden": true
   },
   "outputs": [],
   "source": [
    "def plot_loss(trn_hist, val_hist):\n",
    "    plt.plot(trn_hist, label='Training Loss')\n",
    "    plt.plot(val_hist, label='Validation Loss')\n",
    "    plt.legend()\n",
    "    plt.xlabel('Epoch')\n",
    "    plt.ylabel('Loss')\n",
    "    plt.show()\n",
    "\n",
    "\n",
    "def tokenize_corpus(corpus_path):\n",
    "    num_lines = len(open(corpus_path, encoding='utf8').read().split('\\n'))\n",
    "    \n",
    "    # tokenize corpus\n",
    "    output = ''\n",
    "    with open(corpus_path, encoding='utf8') as f:\n",
    "        for line in tqdm_notebook(f, desc='Tokenizing', total=num_lines):\n",
    "            tokens = tokenizer(line.strip()) + ['\\n']\n",
    "            output += ' '.join(tokens)\n",
    "    \n",
    "    # save tokenized corpus\n",
    "    tok_corpus_path = corpus_path[:-4] + '_tok.txt'\n",
    "    with open(tok_corpus_path, 'w', encoding='utf8') as f:\n",
    "        f.write(output)"
   ]
  },
  {
   "cell_type": "markdown",
   "metadata": {
    "heading_collapsed": true
   },
   "source": [
    "## Data"
   ]
  },
  {
   "cell_type": "markdown",
   "metadata": {
    "hidden": true
   },
   "source": [
    "- A huge amount of texts containing bilions of words (such as all wikipedia articles).\n",
    "- But here, we use a rather small corpus containing Rumi's poems (Masnavi)."
   ]
  },
  {
   "cell_type": "code",
   "execution_count": 16,
   "metadata": {
    "hidden": true
   },
   "outputs": [],
   "source": [
    "data_dir = 'data/masnavi'\n",
    "output_dir = f'{data_dir}/models'\n",
    "\n",
    "train_data = f'{data_dir}/masnavi.txt'\n",
    "train_data_tok = train_data[:-4] + '_tok.txt'"
   ]
  },
  {
   "cell_type": "markdown",
   "metadata": {
    "hidden": true
   },
   "source": [
    "### Tokenizing"
   ]
  },
  {
   "cell_type": "markdown",
   "metadata": {
    "hidden": true
   },
   "source": [
    "### Statistics"
   ]
  },
  {
   "cell_type": "code",
   "execution_count": 20,
   "metadata": {
    "hidden": true
   },
   "outputs": [],
   "source": [
    "def cal_stats(corpus_path):\n",
    "    # collect the number of tokens used in each sentence of the corpus in a list\n",
    "    lengths = [len(s.split(' ')) for s in open(corpus_path, encoding='utf8').read().split('\\n')]\n",
    "    \n",
    "    # compute stats\n",
    "    total = sum(lengths)\n",
    "    mean = np.mean(lengths)\n",
    "    std = np.std(lengths)\n",
    "    \n",
    "    # print stats\n",
    "    print('Total words in the corpus = {}\\n'.format(total))\n",
    "    print('Mean = {:.2f}'.format(mean))\n",
    "    print('Std  = {:.2f}'.format(std))\n",
    "    print('95% confidence interval = [{:.2f}, {:.2f}]'.format(mean-2*std, mean+2*std))\n",
    "    \n",
    "    # plot histogram\n",
    "    plt.hist(lengths, bins=20)\n",
    "    plt.show()"
   ]
  },
  {
   "cell_type": "code",
   "execution_count": 21,
   "metadata": {
    "hidden": true
   },
   "outputs": [
    {
     "name": "stdout",
     "output_type": "stream",
     "text": [
      "Total words in the corpus = 155267\n",
      "\n",
      "Mean = 11.37\n",
      "Std  = 3.23\n",
      "95% confidence interval = [4.92, 17.82]\n"
     ]
    },
    {
     "data": {
      "image/png": "[encoded data removed]",
      "text/plain": [
       "<Figure size 1200x600 with 1 Axes>"
      ]
     },
     "metadata": {},
     "output_type": "display_data"
    }
   ],
   "source": [
    "cal_stats(train_data)"
   ]
  },
  {
   "cell_type": "markdown",
   "metadata": {
    "hidden": true
   },
   "source": [
    "### Corpus"
   ]
  },
  {
   "cell_type": "code",
   "execution_count": 23,
   "metadata": {
    "hidden": true
   },
   "outputs": [],
   "source": [
    "class Corpus(object):\n",
    "    \n",
    "    def __init__(self, corpus_path='data/train.txt'):\n",
    "        self.vocabulary = Vocabulary()\n",
    "        self.corpus_path = corpus_path\n",
    "        self.num_sentences = len([line for line in open(corpus_path, encoding='utf8')])\n",
    "    \n",
    "    def get_data(self, max_vocab=30000, min_count=3, batch_size=20, split_ratio=0.2):\n",
    "        \n",
    "        # First pass: add words to the vocabulary\n",
    "        trn_tokens, val_tokens = [], []\n",
    "        with open(self.corpus_path, encoding='utf8') as f:\n",
    "            for line in tqdm_notebook(f, desc='Building Vocab...', total=self.num_sentences):\n",
    "                tokens = line.split() + ['<EOS>']\n",
    "                if len(line) <= 10: continue\n",
    "                if random.random() < split_ratio:\n",
    "                    val_tokens += tokens\n",
    "                else:\n",
    "                    trn_tokens += tokens\n",
    "        \n",
    "        counter = Counter(trn_tokens + val_tokens)\n",
    "        \n",
    "        # sort tokens according to their frequencies in the Corpus\n",
    "        vocabs = [(w, c) for (w, c) in counter.most_common(max_vocab) if c >= min_count]\n",
    "        \n",
    "        for i, (word, count) in enumerate(vocabs):\n",
    "            self.vocabulary.word2index[word] = i\n",
    "            self.vocabulary.word2count[word] = count\n",
    "            self.vocabulary.index2word[i] = word\n",
    "            self.vocabulary.num_words += 1\n",
    "        self.vocabulary.add_word('<UNK>')\n",
    "        \n",
    "        \n",
    "        # Second pass: Tokenize file content\n",
    "        UNK_TOKEN = self.vocabulary.word2index['<UNK>']\n",
    "        \n",
    "        # train ids\n",
    "        trn_ids = torch.LongTensor(len(trn_tokens))\n",
    "        for idx, token in enumerate(trn_tokens):\n",
    "            if token in self.vocabulary.word2index:\n",
    "                trn_ids[idx] = self.vocabulary.word2index[token] \n",
    "            else:\n",
    "                trn_ids[idx] = UNK_TOKEN\n",
    "        \n",
    "        # validation ids\n",
    "        val_ids = torch.LongTensor(len(val_tokens))\n",
    "        for idx, token in enumerate(val_tokens):\n",
    "            if token in self.vocabulary.word2index:\n",
    "                val_ids[idx] = self.vocabulary.word2index[token] \n",
    "            else:\n",
    "                val_ids[idx] = UNK_TOKEN\n",
    "        \n",
    "        num_batches = trn_ids.size(0) // batch_size\n",
    "        trn_ids = trn_ids[: num_batches * batch_size]\n",
    "        \n",
    "        num_batches = val_ids.size(0) // batch_size\n",
    "        val_ids = trn_ids[: num_batches * batch_size]\n",
    "\n",
    "        return trn_ids.view(batch_size, -1), val_ids.view(batch_size, -1)"
   ]
  },
  {
   "cell_type": "markdown",
   "metadata": {
    "hidden": true
   },
   "source": [
    "### Hyper-parameters"
   ]
  },
  {
   "cell_type": "code",
   "execution_count": 25,
   "metadata": {
    "hidden": true
   },
   "outputs": [],
   "source": [
    "max_vocab = 30000\n",
    "min_count = 1\n",
    "\n",
    "# LSTM hyper-parameters\n",
    "embed_size = 1500\n",
    "hidden_size = 1500\n",
    "num_layers = 2\n",
    "\n",
    "# Training hyper-parameters\n",
    "num_epochs = 40\n",
    "batch_size = 50\n",
    "seq_length = 60\n",
    "learning_rate = 0.001"
   ]
  },
  {
   "cell_type": "markdown",
   "metadata": {
    "hidden": true
   },
   "source": [
    "### Load Data"
   ]
  },
  {
   "cell_type": "code",
   "execution_count": 27,
   "metadata": {
    "hidden": true
   },
   "outputs": [
    {
     "name": "stderr",
     "output_type": "stream",
     "text": [
      "C:\\Users\\Amir\\AppData\\Local\\Temp\\ipykernel_2496\\264560081.py:13: TqdmDeprecationWarning: This function will be removed in tqdm==5.0.0\n",
      "Please use `tqdm.notebook.tqdm` instead of `tqdm.tqdm_notebook`\n",
      "  for line in tqdm_notebook(f, desc='Building Vocab...', total=self.num_sentences):\n"
     ]
    },
    {
     "data": {
      "application/vnd.jupyter.widget-view+json": {
       "model_id": "4675f71dc98a4d98bfd75284461efadd",
       "version_major": 2,
       "version_minor": 0
      },
      "text/plain": [
       "Building Vocab...:   0%|          | 0/13655 [00:00<?, ?it/s]"
      ]
     },
     "metadata": {},
     "output_type": "display_data"
    }
   ],
   "source": [
    "corpus = Corpus(train_data_tok)\n",
    "trn_ids, val_ids = corpus.get_data(max_vocab, min_count, batch_size)\n",
    "vocab_size = len(corpus.vocabulary)\n",
    "\n",
    "# save vocabs and ids\n",
    "pickle.dump(corpus.vocabulary, open(f'{data_dir}/vocab.pkl', 'wb'))\n",
    "np.save(f'{data_dir}/trn_ids.npy', trn_ids.view(-1).numpy())\n",
    "np.save(f'{data_dir}/val_ids.npy', val_ids.view(-1).numpy())"
   ]
  },
  {
   "cell_type": "code",
   "execution_count": 28,
   "metadata": {
    "hidden": true
   },
   "outputs": [],
   "source": [
    "# corpus = Corpus(train_data)\n",
    "# corpus.vocabulary = pickle.load(open(f'{data_dir}/vocab.pkl', 'rb'))\n",
    "\n",
    "# trn_ids = torch.LongTensor(np.load(f'{data_dir}/trn_ids.npy'))\n",
    "# trn_ids = trn_ids[: trn_ids.size(0) // batch_size * batch_size]\n",
    "# trn_ids = trn_ids.view(batch_size, -1)\n",
    "\n",
    "# val_ids = torch.LongTensor(np.load(f'{data_dir}/val_ids.npy'))\n",
    "# val_ids = val_ids[: val_ids.size(0) // batch_size * batch_size]\n",
    "# val_ids = val_ids.view(batch_size, -1)"
   ]
  },
  {
   "cell_type": "code",
   "execution_count": 29,
   "metadata": {
    "hidden": true
   },
   "outputs": [
    {
     "name": "stdout",
     "output_type": "stream",
     "text": [
      "18526\n",
      "torch.Size([50, 2904])\n",
      "torch.Size([50, 706])\n"
     ]
    }
   ],
   "source": [
    "vocab_size = len(corpus.vocabulary)\n",
    "print(vocab_size)\n",
    "print(trn_ids.size())\n",
    "print(val_ids.size())"
   ]
  },
  {
   "cell_type": "code",
   "execution_count": 30,
   "metadata": {
    "hidden": true
   },
   "outputs": [
    {
     "name": "stdout",
     "output_type": "stream",
     "text": [
      "<EOS> 13133\n",
      "و 6623\n",
      "از 4116\n",
      "آن 4014\n",
      "را 3924\n",
      "در 3399\n",
      "كه 3048\n",
      "او 2273\n",
      "بر 2160\n",
      "اين 2033\n",
      "چون 2000\n",
      "ز 1980\n",
      "تو 1751\n",
      "به 1521\n",
      "است 1503\n",
      "تا 1428\n",
      "اى 1200\n",
      "بود 1119\n",
      "من 1117\n",
      "هر 1108\n"
     ]
    }
   ],
   "source": [
    "most_commons = [(w, c) for (w, c) in corpus.vocabulary.word2count.items()][:20]\n",
    "\n",
    "for w, c in most_commons:\n",
    "    print(w, c)"
   ]
  },
  {
   "cell_type": "markdown",
   "metadata": {
    "heading_collapsed": true
   },
   "source": [
    "## LSTM For Language Modeling"
   ]
  },
  {
   "cell_type": "code",
   "execution_count": 33,
   "metadata": {
    "hidden": true
   },
   "outputs": [],
   "source": [
    "class LSTM_LM(nn.Module):\n",
    "    def __init__(self, vocab_size, embed_size, hidden_size, num_layers=1, drop=0.35, tie=True):\n",
    "        super(LSTM_LM, self).__init__()\n",
    "        \n",
    "        if tie:\n",
    "            embed_size = hidden_size\n",
    "        \n",
    "        self.embed_size = embed_size\n",
    "        self.hidden_size = hidden_size\n",
    "        self.num_layers = num_layers\n",
    "            \n",
    "        self.dropout = nn.Dropout(drop)\n",
    "        self.embedding = nn.Embedding(vocab_size, embed_size)\n",
    "        self.lstm = nn.LSTM(embed_size, hidden_size, num_layers, batch_first=True, dropout=0.35)\n",
    "        self.fc = nn.Linear(hidden_size, vocab_size)\n",
    "        \n",
    "        if tie:\n",
    "            # Use the same weights both for embedding and classification\n",
    "            self.fc.weight.data = self.embedding.weight.data\n",
    "            \n",
    "        self.init_weights()\n",
    "        \n",
    "    def init_weights(self):\n",
    "        self.embedding.weight.data.uniform_(-0.1, 0.1)\n",
    "        self.fc.weight.data.uniform_(-0.1, 0.1)\n",
    "        self.fc.bias.data.fill_(0)\n",
    "        \n",
    "    def init_hidden(self, batch_size):\n",
    "        return (to_var(torch.zeros(self.num_layers, batch_size, self.hidden_size)),\n",
    "                to_var(torch.zeros(self.num_layers, batch_size, self.hidden_size)))\n",
    "        \n",
    "    def forward(self, x, hidden):\n",
    "        # embed word ids to vectors\n",
    "        x = self.embedding(x)\n",
    "        x = self.dropout(x)  # DROPOUT\n",
    "        \n",
    "        # forward RNN step\n",
    "        x, hidden = self.lstm(x, hidden)\n",
    "        x = self.dropout(x)  # DROPOUT\n",
    "        \n",
    "        # reshape output to (bs * seq_length, hidden_size)\n",
    "        x = x.contiguous().view(x.size(0) * x.size(1), x.size(2))\n",
    "        \n",
    "        # decode hidden states of all time steps\n",
    "        x = self.fc(x)\n",
    "        \n",
    "        return x, hidden\n",
    "    \n",
    "    def save(self, epoch, loss, save_to=output_dir):\n",
    "        if not os.path.exists(output_dir):\n",
    "            os.mkdir(output_dir)\n",
    "        filename = output_dir + '/lm-masnavi-epoch-{}-em-{}-hi-{}-nl-{}-{:.2f}-{:.2f}.pth'.format(\n",
    "            epoch, self.embed_size, self.hidden_size, self.num_layers, loss, np.exp(loss))\n",
    "        torch.save(self.state_dict(), filename)"
   ]
  },
  {
   "cell_type": "markdown",
   "metadata": {
    "hidden": true
   },
   "source": [
    "#### Tie Weights (Embedding and classification)"
   ]
  },
  {
   "cell_type": "markdown",
   "metadata": {
    "hidden": true
   },
   "source": [
    "<h6>Idea:</h6> Reuse Embeddings for Classification, which greatly reduces the number of trainable parameters:\n",
    "- [Tying Word Vectors and Word Classifiers: A Loss Framework for Language Modeling (Inan et al. 2016)](https://arxiv.org/pdf/1611.01462.pdf)"
   ]
  },
  {
   "cell_type": "markdown",
   "metadata": {
    "hidden": true
   },
   "source": [
    "### Define model"
   ]
  },
  {
   "cell_type": "code",
   "execution_count": 37,
   "metadata": {
    "hidden": true
   },
   "outputs": [],
   "source": [
    "# model\n",
    "model = LSTM_LM(vocab_size, embed_size, hidden_size, num_layers, drop=0.65)\n",
    "if use_gpu:\n",
    "    model = model.cuda()\n",
    "\n",
    "# loss function\n",
    "criterion = nn.CrossEntropyLoss()\n",
    "if use_gpu:\n",
    "    criterion = criterion.cuda()\n",
    "    \n",
    "# optimizer\n",
    "optimizer = torch.optim.Adam(model.parameters(), lr=learning_rate)\n",
    "scheduler = optim.lr_scheduler.StepLR(optimizer, step_size=10, gamma=0.9)"
   ]
  },
  {
   "cell_type": "markdown",
   "metadata": {
    "hidden": true
   },
   "source": [
    "### Training"
   ]
  },
  {
   "cell_type": "code",
   "execution_count": 39,
   "metadata": {
    "hidden": true
   },
   "outputs": [
    {
     "name": "stderr",
     "output_type": "stream",
     "text": [
      "C:\\Users\\Amir\\anaconda3\\Lib\\site-packages\\torch\\optim\\lr_scheduler.py:216: UserWarning: Detected call of `lr_scheduler.step()` before `optimizer.step()`. In PyTorch 1.1.0 and later, you should call them in the opposite order: `optimizer.step()` before `lr_scheduler.step()`.  Failure to do this will result in PyTorch skipping the first value of the learning rate schedule. See more details at https://pytorch.org/docs/stable/optim.html#how-to-adjust-learning-rate\n",
      "  warnings.warn(\n",
      "G:\\masnavi\\train_utils.py:38: FutureWarning: `torch.nn.utils.clip_grad_norm` is now deprecated in favor of `torch.nn.utils.clip_grad_norm_`.\n",
      "  torch.nn.utils.clip_grad_norm(model.parameters(), 0.3)\n"
     ]
    },
    {
     "name": "stdout",
     "output_type": "stream",
     "text": [
      "Training: Epoch [1/40], Step [48/48], Loss: 9.750, Perp: 17154.47, Acc: 0.00           "
     ]
    },
    {
     "name": "stderr",
     "output_type": "stream",
     "text": [
      "G:\\masnavi\\utils.py:14: UserWarning: volatile was removed and now has no effect. Use `with torch.no_grad():` instead.\n",
      "  return Variable(x, volatile=volatile)\n"
     ]
    },
    {
     "name": "stdout",
     "output_type": "stream",
     "text": [
      "Validation: Epoch [40/40], Step [11/11], Loss: 0.795, Perp: 2.22, Acc: 0.87             "
     ]
    }
   ],
   "source": [
    "hist = train(model, trn_ids, val_ids, \n",
    "             criterion, optimizer, scheduler, \n",
    "             num_epochs, batch_size, seq_length)"
   ]
  },
  {
   "cell_type": "code",
   "execution_count": 55,
   "metadata": {
    "hidden": true
   },
   "outputs": [
    {
     "data": {
      "image/png": "[encoded data removed]",
      "text/plain": [
       "<Figure size 1200x600 with 1 Axes>"
      ]
     },
     "metadata": {},
     "output_type": "display_data"
    }
   ],
   "source": [
    "plot_loss(*hist)"
   ]
  },
  {
   "cell_type": "code",
   "execution_count": 56,
   "metadata": {
    "hidden": true
   },
   "outputs": [],
   "source": [
    "torch.save(model.state_dict(), 'masnavi-lm.pth')"
   ]
  },
  {
   "cell_type": "markdown",
   "metadata": {
    "hidden": true
   },
   "source": [
    "### Sampling"
   ]
  },
  {
   "cell_type": "markdown",
   "metadata": {
    "hidden": true
   },
   "source": [
    "<h6>Algorithm:</h6>\n",
    "1. **Initialize** the LSTM state (`h`, `c`) with zeros.\n",
    "\n",
    "2. Pick a **random word** from vocabulary as the seed.\n",
    "\n",
    "3. while number of generated samples is less than the desired:\n",
    " \n",
    " 3.1 **Feed** the LSTM using the word generated from previous time-step.\n",
    " \n",
    " 3.2 Perform **forward computations** to create the probabilty distribution vector for vocabularies.\n",
    " \n",
    " 3.3 Pick a **random word** from vocabulary according to the probabilty distribution from LSTM."
   ]
  },
  {
   "cell_type": "code",
   "execution_count": 61,
   "metadata": {
    "hidden": true,
    "scrolled": true
   },
   "outputs": [],
   "source": [
    "N = 1000\n",
    "p = torch.FloatTensor([0.5, 0.25, 0.15, 0.10])\n",
    "# p = torch.FloatTensor([50, 25, 15, 10])\n",
    "\n",
    "counter = Counter()\n",
    "\n",
    "# Draw N samples\n",
    "for _ in range(N):\n",
    "    sample = torch.multinomial(p, num_samples=1, replacement=True)[0]\n",
    "    counter[sample] += 1\n",
    "    \n",
    "# print samples and their counts\n",
    "# for sample, count in counter.most_common():\n",
    "#     print(\"{:d}: {:2d}\".format(sample, count))"
   ]
  },
  {
   "cell_type": "code",
   "execution_count": 75,
   "metadata": {
    "hidden": true
   },
   "outputs": [],
   "source": [
    "import torch\n",
    "from tqdm.notebook import tqdm\n",
    "\n",
    "def get_sample(model, sample_len):\n",
    "    model.eval()\n",
    "    sample = ''\n",
    "    state = model.init_hidden(1)  # Assuming model has an `init_hidden` method\n",
    "\n",
    "    # select a random word id to start sampling\n",
    "    probs = torch.ones(vocab_size)  # Uniform distribution over vocab\n",
    "    inp = torch.multinomial(probs, num_samples=1).unsqueeze(1)  # Random starting word\n",
    "    inp = inp.to(next(model.parameters()).device)  # Ensure inp is on the same device as the model\n",
    "\n",
    "    # Inference should be inside torch.no_grad() to save memory\n",
    "    with torch.no_grad():\n",
    "        for i in tqdm(range(sample_len)):\n",
    "            output, state = model(inp, state)\n",
    "\n",
    "            # Convert model output logits to probabilities and sample a word id\n",
    "            probs = torch.softmax(output.squeeze(), dim=-1).cpu()  # Use softmax to get probabilities\n",
    "            word_id = torch.multinomial(probs, 1).item()\n",
    "\n",
    "            # Feed sampled word id to the next time step\n",
    "            inp.fill_(word_id)\n",
    "\n",
    "            # Get word from the vocabulary\n",
    "            word = corpus.vocabulary.index2word.get(word_id, '<UNK>')  # Handle unknown word_ids\n",
    "\n",
    "            # Check for end of sequence\n",
    "            if word == '<EOS>':\n",
    "                sample += '\\n'\n",
    "            else:\n",
    "                sample += ' ' + word\n",
    "    \n",
    "    return sample\n"
   ]
  },
  {
   "cell_type": "code",
   "execution_count": 79,
   "metadata": {
    "hidden": true
   },
   "outputs": [
    {
     "data": {
      "application/vnd.jupyter.widget-view+json": {
       "model_id": "b4aba1a7eb424393abdadc88e9701878",
       "version_major": 2,
       "version_minor": 0
      },
      "text/plain": [
       "  0%|          | 0/300 [00:00<?, ?it/s]"
      ]
     },
     "metadata": {},
     "output_type": "display_data"
    },
    {
     "name": "stdout",
     "output_type": "stream",
     "text": [
      "\n",
      " يك خرد گو اى حكيم تا نبينى از جسم ز برى‏\n",
      " اى سليمان همچو اهل مرد ناز از رنج باشد دم‏به‏دم‏\n",
      " اندر براى روح گير غور باشد چه در جهل چراست‏\n",
      " هين ابراهيم كن السلام بر بهانه‏ى و بر رقص و فاش‏\n",
      " غايت گويد بحر خوش بعد سوى تو منم آيد جان يشم‏\n",
      " قدرت بين تا چار كنى گر چنان باشد چرا واده\n",
      " گر چه زهرى در دزدد همچو دستان كرد گويد تمام‏\n",
      " گر چه واجب تا دروغ نيست گر نه آيد خون هيچ‏\n",
      " ور تو بدانى و لهو چون شهان باشد اى اقبال\n",
      " اى بلال پيش دامن سوى دل پاك معلق\n",
      " وقت راى و ثمود باز گزيند تا بود همچون\n",
      " اى جواب ده مريم سر ترك بايد و من لكم\n",
      " زين گبر بنگر سكر تا سعادت است پيدا وقت\n",
      " چون جنين زود استى تا كشند كى برهنه سوى ريختى‏\n",
      " تا برون بى‏تو سوى راه تا آخر آخر اى درون‏\n",
      " ور ناديده ماه آمدم نيست اندر تقليد كن مأمور\n",
      " هيچ كردم ز نامدند سوى نصح چون بهشت\n",
      " اى عدوى كن بهل به ترك نسيان كردن اى حسن‏\n",
      " جمله من بى‏حقيقت و خوابستم تا نيستم اى خوب پوشان\n",
      " اى حنانه ترك خودى تا خاين كرده تيغشان\n",
      " اى دروغ كرده رو رويد كز پشتم كن اينجا درون‏\n",
      " نيست كوران مى‏كند آهنگ فايده نى نداند از دغل‏\n",
      " دوزخ گيرد عرضه كاين نه عز است پنهان سخت‏\n",
      " نيست كژ عشق همه شاخ خونى را رويش كرد\n",
      " تا كه باشد هيچ وثن تا برون آيد آن ساعتى‏\n",
      " نيستم سوى خانه‏اى و گوش تا گلستانش بود آردمان\n",
      " گه باشد نك به يك يك زدن جمع فرزند\n",
      " خواجه خواجه نيم اهل بيار خويشتن مى‏پنداشتيد به رزق\n",
      " تا كه\n"
     ]
    }
   ],
   "source": [
    "sample = get_sample(model, 300)\n",
    "print(sample)"
   ]
  },
  {
   "cell_type": "code",
   "execution_count": 81,
   "metadata": {
    "hidden": true
   },
   "outputs": [],
   "source": [
    "with open('sample.txt', 'w', encoding='utf8') as f:\n",
    "    f.write(sample)"
   ]
  },
  {
   "cell_type": "markdown",
   "metadata": {
    "heading_collapsed": true
   },
   "source": [
    "## Load a pre-trained Model"
   ]
  },
  {
   "cell_type": "code",
   "execution_count": 83,
   "metadata": {
    "hidden": true
   },
   "outputs": [
    {
     "name": "stderr",
     "output_type": "stream",
     "text": [
      "C:\\Users\\Amir\\AppData\\Local\\Temp\\ipykernel_2496\\600167077.py:2: FutureWarning: You are using `torch.load` with `weights_only=False` (the current default value), which uses the default pickle module implicitly. It is possible to construct malicious pickle data which will execute arbitrary code during unpickling (See https://github.com/pytorch/pytorch/blob/main/SECURITY.md#untrusted-models for more details). In a future release, the default value for `weights_only` will be flipped to `True`. This limits the functions that could be executed during unpickling. Arbitrary objects will no longer be allowed to be loaded via this mode unless they are explicitly allowlisted by the user via `torch.serialization.add_safe_globals`. We recommend you start setting `weights_only=True` for any use case where you don't have full control of the loaded file. Please open an issue on GitHub for any issues related to this experimental feature.\n",
      "  model.load_state_dict(torch.load('masnavi-lm.pth'))\n"
     ]
    }
   ],
   "source": [
    "model = LSTM_LM(vocab_size, embed_size=1500, hidden_size=1500, num_layers=2)\n",
    "model.load_state_dict(torch.load('masnavi-lm.pth'))\n",
    "if use_gpu:\n",
    "    model = model.cuda()"
   ]
  },
  {
   "cell_type": "code",
   "execution_count": 85,
   "metadata": {
    "hidden": true
   },
   "outputs": [
    {
     "data": {
      "application/vnd.jupyter.widget-view+json": {
       "model_id": "6fdf0e5cb81e4664b237823d49005a48",
       "version_major": 2,
       "version_minor": 0
      },
      "text/plain": [
       "  0%|          | 0/300 [00:00<?, ?it/s]"
      ]
     },
     "metadata": {},
     "output_type": "display_data"
    },
    {
     "name": "stdout",
     "output_type": "stream",
     "text": [
      " تا ضعيف بر گزيد تا مجاز\n",
      " تا پيمبر آيد اضطرار تا نگردد عقل سوى صلاح‏\n",
      " تا همان آيد سرم راه گر دمى آيد مى‏شوى‏\n",
      " اى نشان هم بلاهاى تا مران من شده با الكلام‏\n",
      " تا نشان كردم دروغ تا سلاسل كرده بنگر نه\n",
      " من عدم كن كه داروى همچو منبل از حيل\n",
      " ور بجوشد از ولى سر تا نيفتد بر گريزند\n",
      " عاقبت باشد لأمري و غره‏ى تا صلحش كرد مار را\n",
      " ز هوا بازى مى‏دهد دست لحظه بر كشت خشك\n",
      " تا بيرون خود ذوق خويش تا يظنوا اندر ستانت\n",
      " محرمى‏ باشد مى‏زنش تا چه فردا است نه جوانا\n",
      " الدين باشد پهلوى در گر چه سست آيد نه بلى‏\n",
      " من چه بگذار نه كارت بود تا طاوس بود آن سود\n",
      " چون به او حالش شد فاش تا بر آن دل شد شرم\n",
      " باز موسى را به حق خرس او به حق سوى زنان‏\n",
      " همچو رنجور زنم ما مصحف كش گلنار و ابدانشان‏\n",
      " كافرم نه نمى‏آيد كان طرف باشد وقت بلكه\n",
      " نه نديدم تا دروگر همچو خيالى باز بنه\n",
      " اى عدوى عاصيان كردم خرند تا مزين آيد ديوانه‏وار\n",
      " كه به افسانه نه الفرح تا نگردد اين وقت جوال‏\n",
      " همچو صورت اختيار آخر كشند زين براق است زير مى‏دان\n",
      " ز احمقان كه طبق تا شود اندر نشان سود مى‏كنند\n",
      " خون شه هست حال نيست يا بايد كرد تا اله‏\n",
      " از زن پيدا كن آغاز چون كه فرعون نيست پنهان نهان‏\n",
      " رو به معنى فراخ شد تا به تزايد و محكم شد\n",
      " هر چو مانند گرفت تا سگ آمد او با نفاق‏\n",
      " قوم مى‏گفت از توكل نك چيست ز خر و مأمور\n",
      " گفت كردم از درم تا گرو چون بماند اين تدبيرها\n",
      " تا بيدارى ز فردا\n"
     ]
    }
   ],
   "source": [
    "sample = get_sample(model, 300)\n",
    "print(sample)"
   ]
  }
 ],
 "metadata": {
  "kernelspec": {
   "display_name": "Python 3 (ipykernel)",
   "language": "python",
   "name": "python3"
  },
  "language_info": {
   "codemirror_mode": {
    "name": "ipython",
    "version": 3
   },
   "file_extension": ".py",
   "mimetype": "text/x-python",
   "name": "python",
   "nbconvert_exporter": "python",
   "pygments_lexer": "ipython3",
   "version": "3.12.3"
  }
 },
 "nbformat": 4,
 "nbformat_minor": 4
}
